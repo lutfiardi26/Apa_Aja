{
  "nbformat": 4,
  "nbformat_minor": 0,
  "metadata": {
    "colab": {
      "provenance": [],
      "authorship_tag": "ABX9TyPICMdanwkHRWpcWjE+4XtM",
      "include_colab_link": true
    },
    "kernelspec": {
      "name": "python3",
      "display_name": "Python 3"
    },
    "language_info": {
      "name": "python"
    }
  },
  "cells": [
    {
      "cell_type": "markdown",
      "metadata": {
        "id": "view-in-github",
        "colab_type": "text"
      },
      "source": [
        "<a href=\"https://colab.research.google.com/github/lutfiardi26/Apa_Aja/blob/main/Lutfi_Ardiansyah_1IA28_50422817_Minggu2.ipynb\" target=\"_parent\"><img src=\"https://colab.research.google.com/assets/colab-badge.svg\" alt=\"Open In Colab\"/></a>"
      ]
    },
    {
      "cell_type": "code",
      "execution_count": 3,
      "metadata": {
        "colab": {
          "base_uri": "https://localhost:8080/"
        },
        "id": "xKx1IRzHj_TM",
        "outputId": "71ebeeea-abc6-47cb-f674-07990e22a120"
      },
      "outputs": [
        {
          "output_type": "stream",
          "name": "stdout",
          "text": [
            "Hasil Penjumlahan Matriks 1 dan 2 Adalah :\n",
            "[6, 2]\n",
            "[5, 10]\n"
          ]
        }
      ],
      "source": [
        "# Matriks 1\n",
        "mat1 = [[5, 0], \n",
        "        [2, 6]]\n",
        "\n",
        "# Matriks 2\n",
        "mat2 = [[1, 2], \n",
        "        [3, 4]]\n",
        "\n",
        "# Hasil penjumlahan matriks\n",
        "hasil = [[0, 0], \n",
        "         [0, 0]]\n",
        "\n",
        "# Penjumlahan matriks\n",
        "for i in range(len(mat1)):\n",
        "    for j in range(len(mat1[0])):\n",
        "        hasil[i][j] = mat1[i][j] + mat2[i][j]\n",
        "\n",
        "\n",
        "# Menampilkan hasil penjumlahan matriks\n",
        "print(\"Hasil Penjumlahan Matriks 1 dan 2 Adalah :\")\n",
        "for h in hasil:\n",
        "    print(h)"
      ]
    },
    {
      "cell_type": "code",
      "source": [
        "# Matriks 1\n",
        "mat1 = [[5, 0], \n",
        "        [2, 6]]\n",
        "\n",
        "# Matriks 2\n",
        "mat2 = [[1, 2], \n",
        "        [3, 4]]\n",
        "\n",
        "# Hasil perkalian matriks\n",
        "hasil = [[0, 0], \n",
        "         [0, 0]]\n",
        "\n",
        "# Perkalian matriks\n",
        "for i in range(len(mat1)):\n",
        "    for j in range(len(mat2[0])):\n",
        "        for k in range(len(mat2)):\n",
        "            hasil[i][j] += mat1[i][k] * mat2[k][j]\n",
        "\n",
        "# Menampilkan hasil perkalian matriks\n",
        "print(\"Hasil Perkalian Matriks 1 dan 2 adalah :\")\n",
        "for h in hasil:\n",
        "    print(h)"
      ],
      "metadata": {
        "colab": {
          "base_uri": "https://localhost:8080/"
        },
        "id": "Onr8lVCQr5Xk",
        "outputId": "13cb72d4-710c-4846-adc4-0ab0339ec0df"
      },
      "execution_count": 4,
      "outputs": [
        {
          "output_type": "stream",
          "name": "stdout",
          "text": [
            "Hasil Perkalian Matriks 1 dan 2 adalah :\n",
            "[5, 10]\n",
            "[20, 28]\n"
          ]
        }
      ]
    },
    {
      "cell_type": "code",
      "source": [
        "# Matriks\n",
        "mat = [[5, 0], [2, 6]]\n",
        "\n",
        "# Hasil transpose matriks\n",
        "hasil = [[0, 0], [0, 0]]\n",
        "\n",
        "# Transpose matriks\n",
        "for i in range(len(mat)):\n",
        "    for j in range(len(mat[0])):\n",
        "        hasil[j][i] = mat[i][j]\n",
        "\n",
        "# Menampilkan hasil transpose matriks\n",
        "print(\"Hasil Tranpose Matriks Adalah :\")\n",
        "for h in hasil:\n",
        "    print(h)"
      ],
      "metadata": {
        "colab": {
          "base_uri": "https://localhost:8080/"
        },
        "id": "KUFtnLdcsLOj",
        "outputId": "342f1c43-1ef7-4cad-b516-16b50cb0c33f"
      },
      "execution_count": 5,
      "outputs": [
        {
          "output_type": "stream",
          "name": "stdout",
          "text": [
            "Hasil Tranpose Matriks Adalah :\n",
            "[5, 2]\n",
            "[0, 6]\n"
          ]
        }
      ]
    }
  ]
}